{
  "nbformat": 4,
  "nbformat_minor": 0,
  "metadata": {
    "kernelspec": {
      "display_name": "Python 3",
      "language": "python",
      "name": "python3"
    },
    "language_info": {
      "codemirror_mode": {
        "name": "ipython",
        "version": 3
      },
      "file_extension": ".py",
      "mimetype": "text/x-python",
      "name": "python",
      "nbconvert_exporter": "python",
      "pygments_lexer": "ipython3",
      "version": "3.8.5"
    },
    "colab": {
      "name": "Homework2QTM385_fjx-dylan-zhang.ipynb",
      "provenance": [],
      "include_colab_link": true
    }
  },
  "cells": [
    {
      "cell_type": "markdown",
      "metadata": {
        "id": "view-in-github",
        "colab_type": "text"
      },
      "source": [
        "<a href=\"https://colab.research.google.com/github/Fjx-dylanZ/qtm385/blob/main/Homework2QTM385_fjx_dylan_zhang.ipynb\" target=\"_parent\"><img src=\"https://colab.research.google.com/assets/colab-badge.svg\" alt=\"Open In Colab\"/></a>"
      ]
    },
    {
      "cell_type": "markdown",
      "metadata": {
        "id": "Z8nl48lV3dvX"
      },
      "source": [
        "# QTM 385\n",
        "\n",
        "***\n",
        "\n",
        "## Homework 2\n",
        "\n",
        "Student: Fanjiaxuan(Dylan) Zhang"
      ]
    },
    {
      "cell_type": "markdown",
      "metadata": {
        "id": "MTpPmE1S3dvZ"
      },
      "source": [
        "In this homework we will create a text scrambler. The idea is that the user is going to input some text, and we will scramble the letters in the text. Each question will guide you up to the desired result."
      ]
    },
    {
      "cell_type": "markdown",
      "metadata": {
        "id": "lbh95mo_3dvZ"
      },
      "source": [
        "\n",
        "***\n",
        "\n",
        "### Question 1\n",
        "\n",
        "Suppose that you have a string `S = 'My beautiful string'`. Show that you can transform your string into a list by applying the command `list(S)` to it."
      ]
    },
    {
      "cell_type": "code",
      "metadata": {
        "colab": {
          "base_uri": "https://localhost:8080/"
        },
        "id": "FQgn1jtF3dva",
        "outputId": "c3da96b4-378d-4793-dc29-8f82ff5021f0"
      },
      "source": [
        "# Your answer here\n",
        "S = 'My beautiful string'\n",
        "print(list(S))\n",
        "print(type(list(S)))"
      ],
      "execution_count": 1,
      "outputs": [
        {
          "output_type": "execute_result",
          "data": {
            "text/plain": [
              "['M',\n",
              " 'y',\n",
              " ' ',\n",
              " 'b',\n",
              " 'e',\n",
              " 'a',\n",
              " 'u',\n",
              " 't',\n",
              " 'i',\n",
              " 'f',\n",
              " 'u',\n",
              " 'l',\n",
              " ' ',\n",
              " 's',\n",
              " 't',\n",
              " 'r',\n",
              " 'i',\n",
              " 'n',\n",
              " 'g']"
            ]
          },
          "metadata": {
            "tags": []
          },
          "execution_count": 1
        }
      ]
    },
    {
      "cell_type": "markdown",
      "metadata": {
        "id": "Ev8QiGoR3dva"
      },
      "source": [
        "\n",
        "***\n",
        "\n",
        "### Question 2\n",
        "\n",
        "If you have a list, you can put the elements together forming a string if you do the following:\n",
        "\n",
        "```\n",
        "L = ['1', '2', '3', '4', '5', '6']\n",
        "''.join(L)\n",
        "```\n",
        "\n",
        "Try for the list in this example. Try also for the list below:\n",
        "\n",
        "```\n",
        "L2 = ['a', '2', 'c', '4', 'e', '6']\n",
        "```"
      ]
    },
    {
      "cell_type": "code",
      "metadata": {
        "colab": {
          "base_uri": "https://localhost:8080/"
        },
        "id": "nSLcoX4t3dva",
        "outputId": "6fbcd617-8c60-4813-81cf-4db538940833"
      },
      "source": [
        "# Your answer here\n",
        "L = ['1', '2', '3', '4', '5', '6']\n",
        "print(''.join(L))\n",
        "L2 = ['a', '2', 'c', '4', 'e', '6']\n",
        "print(''.join(L2))"
      ],
      "execution_count": 3,
      "outputs": [
        {
          "output_type": "stream",
          "text": [
            "123456\n",
            "a2c4e6\n"
          ],
          "name": "stdout"
        }
      ]
    },
    {
      "cell_type": "markdown",
      "metadata": {
        "id": "vQCZDGF63dvb"
      },
      "source": [
        "\n",
        "***\n",
        "\n",
        "### Question 3\n",
        "\n",
        "If you have a list of objects, we learned how to select one using the function `choice` in the `random` module. This module has also a function `sample`, where you can select one or more elements from a list or tuple. Suppose we have a list `L` with elements, and that we imported the module as `rd` (see previous homework). The syntax for selecting three elements there is:\n",
        "\n",
        "```\n",
        "rd.sample(L, 3)\n",
        "```\n",
        "\n",
        "Now, from the following list:\n",
        "\n",
        "```\n",
        "preferred_food = ['pizza', 'ice cream', 'salad']\n",
        "```\n",
        "\n",
        "Select two favorite foods to eat."
      ]
    },
    {
      "cell_type": "code",
      "metadata": {
        "colab": {
          "base_uri": "https://localhost:8080/"
        },
        "id": "NkPYx1Vo3dvb",
        "outputId": "cacda48b-7115-4a96-f128-9cd60bd10b31"
      },
      "source": [
        "# Your answer here\n",
        "import random as rd\n",
        "preferred_food = ['pizza', 'ice cream', 'salad']\n",
        "for food in rd.sample(preferred_food, 2):\n",
        "  print(\"I want to eat \" + food)"
      ],
      "execution_count": 8,
      "outputs": [
        {
          "output_type": "stream",
          "text": [
            "I want to eat salad\n",
            "I want to eat ice cream\n"
          ],
          "name": "stdout"
        }
      ]
    },
    {
      "cell_type": "markdown",
      "metadata": {
        "id": "Dl_0gwEW3dvb"
      },
      "source": [
        "\n",
        "***\n",
        "\n",
        "### Question 4\n",
        "\n",
        "To get the user's input, we can use the function `input()`. The syntax is simple: `variable_saving = input('Prompt here: ')`. Use the function below to save the input in the variable `my_entry`. As a prompt, use the phrase 'Enter your text here: '. Print the text typed by the user."
      ]
    },
    {
      "cell_type": "code",
      "metadata": {
        "colab": {
          "base_uri": "https://localhost:8080/"
        },
        "id": "URUlTS7w3dvc",
        "outputId": "f9d28485-fe5f-4104-9d81-1675fef61cb8"
      },
      "source": [
        "# Your answer here\n",
        "my_entry = input(\"Enter your text here: \")\n",
        "print(my_entry)"
      ],
      "execution_count": 9,
      "outputs": [
        {
          "output_type": "stream",
          "text": [
            "Enter your text here: how are you?\n",
            "how are you?\n"
          ],
          "name": "stdout"
        }
      ]
    },
    {
      "cell_type": "markdown",
      "metadata": {
        "id": "TVUEns5s3dvc"
      },
      "source": [
        "\n",
        "***\n",
        "\n",
        "### Question 5\n",
        "\n",
        "Now, build your scrambler. Assume the user will enter a word, or a name, or even a phrase. Scramble it and return the input scrambled after the user type it."
      ]
    },
    {
      "cell_type": "code",
      "metadata": {
        "colab": {
          "base_uri": "https://localhost:8080/"
        },
        "id": "e_hmGRPJ3dvc",
        "outputId": "6388ea9d-4aaa-4776-a8aa-b116c4593459"
      },
      "source": [
        "# Your answer here\n",
        "user_string = input(\"Enter your text here to be scrambled: \")\n",
        "scrambled_str = ''.join(rd.sample(user_string, len(user_string)))\n",
        "print(scrambled_str)"
      ],
      "execution_count": 16,
      "outputs": [
        {
          "output_type": "stream",
          "text": [
            "Enter your text here to be scrambled: testme\n",
            "seettm\n"
          ],
          "name": "stdout"
        }
      ]
    },
    {
      "cell_type": "markdown",
      "metadata": {
        "id": "pGttkQW53dvc"
      },
      "source": [
        "**That's all, folks!**"
      ]
    }
  ]
}
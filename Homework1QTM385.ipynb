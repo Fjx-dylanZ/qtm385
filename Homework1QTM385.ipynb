{
  "nbformat": 4,
  "nbformat_minor": 0,
  "metadata": {
    "kernelspec": {
      "display_name": "Python 3",
      "language": "python",
      "name": "python3"
    },
    "language_info": {
      "codemirror_mode": {
        "name": "ipython",
        "version": 3
      },
      "file_extension": ".py",
      "mimetype": "text/x-python",
      "name": "python",
      "nbconvert_exporter": "python",
      "pygments_lexer": "ipython3",
      "version": "3.8.5"
    },
    "colab": {
      "name": "Homework1QTM385.ipynb",
      "provenance": [],
      "include_colab_link": true
    }
  },
  "cells": [
    {
      "cell_type": "markdown",
      "metadata": {
        "id": "view-in-github",
        "colab_type": "text"
      },
      "source": [
        "<a href=\"https://colab.research.google.com/github/Fjx-dylanZ/qtm385/blob/main/Homework1QTM385.ipynb\" target=\"_parent\"><img src=\"https://colab.research.google.com/assets/colab-badge.svg\" alt=\"Open In Colab\"/></a>"
      ]
    },
    {
      "cell_type": "markdown",
      "metadata": {
        "id": "mHrIGXKfEm2s"
      },
      "source": [
        "# QTM 385\n",
        "\n",
        "***\n",
        "\n",
        "## Homework 1\n",
        "\n",
        "Student: Fanjiaxuan (Dylan) Zhang"
      ]
    },
    {
      "cell_type": "markdown",
      "metadata": {
        "id": "KSWSeWEnEm2y"
      },
      "source": [
        "***\n",
        "\n",
        "### FAQ\n",
        "\n",
        "1. What are the criteria for full marks?\n",
        " \n",
        "> Two. Half of your grade is based on coding, and the other half is based on getting the results right.\n",
        "\n",
        "2. How to write a clean code?\n",
        "\n",
        "> Check out the PEP 8 Manual [here](https://www.python.org/dev/peps/pep-0008/). But in a nutshell:\n",
        "\n",
        "> - Indents should be four spaces (not tab)\n",
        "> - Limit all lines to a maximum of 79 characters (long blocks of text is limited to 72 characters)\n",
        "> - Use a space after a comma\n",
        "> - Use a space before and after arithmetic operators\n",
        "\n",
        "3. How to get the question right?\n",
        "\n",
        "> Answer to what has been asked. Not more, not less. Check twice that you did right and answered all the parts of the question. Like a good carpenter, measure twice, but cut only once: check your answers before submitting them.\n",
        "\n",
        "4. How do I submit my homework?\n",
        "\n",
        "> Two methods:\n",
        "\n",
        "> - Upload your Jupyter Notebook to your Github page. Put the Github link on Canvas, and I'll check (recommended).\n",
        "\n",
        "> - Upload your Jupyter Notebook on Canvas (not recommended).\n",
        "\n",
        "5. What to do if I have other questions?\n",
        "\n",
        "> Sign up for office hours using [this link.](https://calendly.com/umberto-mignozzetti/office-hours)\n",
        "\n",
        "**Good luck!**"
      ]
    },
    {
      "cell_type": "markdown",
      "metadata": {
        "id": "dzZKJLurEm2z"
      },
      "source": [
        "\n",
        "***\n",
        "\n",
        "### Question 1\n",
        "\n",
        "Run the following code:\n",
        "\n",
        "```\n",
        "0.1 + 0.1 + 0.1\n",
        "```\n",
        "\n",
        "Is it equal to `0.3`? If not, why?"
      ]
    },
    {
      "cell_type": "code",
      "metadata": {
        "colab": {
          "base_uri": "https://localhost:8080/"
        },
        "id": "hepg1sKtEm2z",
        "outputId": "3f430b0d-3d98-401d-8698-6724ce583edc"
      },
      "source": [
        "# Your answer here\n",
        "0.1 + 0.1 + 0.1"
      ],
      "execution_count": 1,
      "outputs": [
        {
          "output_type": "execute_result",
          "data": {
            "text/plain": [
              "0.30000000000000004"
            ]
          },
          "metadata": {
            "tags": []
          },
          "execution_count": 1
        }
      ]
    },
    {
      "cell_type": "markdown",
      "metadata": {
        "id": "Th8YPrsXHDI7"
      },
      "source": [
        "$0.1$ is a floating point number. Due to how floats are implemented and stored in our computer hardware, floating point arithmetics could be suject to rounding error. \\\\\n",
        " $0.1 + 0.1 +0.1 \\neq 0.3$ is therefore an example of this rounding error."
      ]
    },
    {
      "cell_type": "markdown",
      "metadata": {
        "id": "ayRBB83SEm20"
      },
      "source": [
        "\n",
        "***\n",
        "\n",
        "### Question 2\n",
        "\n",
        "How many digits has $3^{1,000,000}$? (Hint: the function `str` transforms a number into a string.)"
      ]
    },
    {
      "cell_type": "code",
      "metadata": {
        "colab": {
          "base_uri": "https://localhost:8080/"
        },
        "id": "dNYjrNSdEm20",
        "outputId": "ecde8dfd-e9b9-4d0e-a947-fc404f7a6312"
      },
      "source": [
        "# Your answer here\n",
        "print(len(str(3**1000000)))"
      ],
      "execution_count": 18,
      "outputs": [
        {
          "output_type": "stream",
          "text": [
            "477122\n"
          ],
          "name": "stdout"
        }
      ]
    },
    {
      "cell_type": "markdown",
      "metadata": {
        "id": "DJ3FwQPDOqsj"
      },
      "source": [
        "477122 digits."
      ]
    },
    {
      "cell_type": "markdown",
      "metadata": {
        "id": "N41gZYuvEm20"
      },
      "source": [
        "\n",
        "***\n",
        "\n",
        "### Question 3\n",
        "\n",
        "Create a tuple with three foods that you love to eat. Save it in a variable called `preferred_food`."
      ]
    },
    {
      "cell_type": "code",
      "metadata": {
        "colab": {
          "base_uri": "https://localhost:8080/"
        },
        "id": "A0UH7LLjEm21",
        "outputId": "177eb0f1-5091-44b9-8071-3cf303cf0cd2"
      },
      "source": [
        "# Your answer here\n",
        "preferred_food = ('fries', 'wagyu sushi', 'whisky')\n",
        "print(preferred_food)"
      ],
      "execution_count": 5,
      "outputs": [
        {
          "output_type": "stream",
          "text": [
            "('fries', 'wagyu sushi', 'whisky')\n"
          ],
          "name": "stdout"
        }
      ]
    },
    {
      "cell_type": "markdown",
      "metadata": {
        "id": "POoH7HBuEm21"
      },
      "source": [
        "\n",
        "***\n",
        "\n",
        "### Question 4\n",
        "\n",
        "The module random has a handy function for selecting elements in a tuple: `choice`. Import the module `random`, and name it `rd`."
      ]
    },
    {
      "cell_type": "code",
      "metadata": {
        "id": "ErtC3gltEm21"
      },
      "source": [
        "# Your answer here\n",
        "import random as rd"
      ],
      "execution_count": 16,
      "outputs": []
    },
    {
      "cell_type": "markdown",
      "metadata": {
        "id": "txANiIZ2Em22"
      },
      "source": [
        "\n",
        "***\n",
        "\n",
        "### Question 5\n",
        "\n",
        "Using the function choice, select a food to eat today. (Hint: when we used `numpy`, I named it `np`. When I needed a function in it, I did `np.function_I_needed`...)"
      ]
    },
    {
      "cell_type": "code",
      "metadata": {
        "colab": {
          "base_uri": "https://localhost:8080/"
        },
        "id": "dbt3hUOSEm22",
        "outputId": "704436b0-d0d1-4adc-85f7-695a8c326aea"
      },
      "source": [
        "# Your answer here\n",
        "print(\"I will be having \" + rd.choice(preferred_food) + \" today.\")"
      ],
      "execution_count": 15,
      "outputs": [
        {
          "output_type": "stream",
          "text": [
            "I will be having whisky today.\n"
          ],
          "name": "stdout"
        }
      ]
    },
    {
      "cell_type": "markdown",
      "metadata": {
        "id": "bNcxEYNTEm22"
      },
      "source": [
        "**That's all, folks!**"
      ]
    }
  ]
}
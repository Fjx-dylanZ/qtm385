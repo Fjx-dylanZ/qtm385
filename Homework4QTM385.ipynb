{
  "nbformat": 4,
  "nbformat_minor": 0,
  "metadata": {
    "kernelspec": {
      "display_name": "Python 3",
      "language": "python",
      "name": "python3"
    },
    "language_info": {
      "codemirror_mode": {
        "name": "ipython",
        "version": 3
      },
      "file_extension": ".py",
      "mimetype": "text/x-python",
      "name": "python",
      "nbconvert_exporter": "python",
      "pygments_lexer": "ipython3",
      "version": "3.8.5"
    },
    "colab": {
      "name": "Homework4QTM385.ipynb",
      "provenance": [],
      "include_colab_link": true
    }
  },
  "cells": [
    {
      "cell_type": "markdown",
      "metadata": {
        "id": "view-in-github",
        "colab_type": "text"
      },
      "source": [
        "<a href=\"https://colab.research.google.com/github/Fjx-dylanZ/qtm385/blob/main/Homework4QTM385.ipynb\" target=\"_parent\"><img src=\"https://colab.research.google.com/assets/colab-badge.svg\" alt=\"Open In Colab\"/></a>"
      ]
    },
    {
      "cell_type": "markdown",
      "metadata": {
        "id": "h34m12vCszBw"
      },
      "source": [
        "# QTM 385\n",
        "\n",
        "***\n",
        "\n",
        "## Homework 4\n",
        "\n",
        "Student: Fanjiaxuan (Dylan) Zhang"
      ]
    },
    {
      "cell_type": "markdown",
      "metadata": {
        "id": "55bc-ElNszB0"
      },
      "source": [
        "In this homework, we will create an object called Student, that is useful for a professor to store information about a student."
      ]
    },
    {
      "cell_type": "markdown",
      "metadata": {
        "id": "2Dzq3kppszB1"
      },
      "source": [
        "\n",
        "***\n",
        "\n",
        "### Question 1\n",
        "\n",
        "Create a class Student, that has:\n",
        "\n",
        "0. Id number (5-digits integer, starting with 1)\n",
        "1. First Name (str)\n",
        "2. Last Name (str)\n",
        "3. Grades (list of floats)\n",
        "4. Credits (list of integers)\n",
        "5. Major (str)\n",
        "\n",
        "Provide a constructor for your class and create one fictitious student."
      ]
    },
    {
      "cell_type": "code",
      "metadata": {
        "colab": {
          "base_uri": "https://localhost:8080/"
        },
        "id": "rcGpKGhuszB1",
        "outputId": "9751c258-d2e5-459c-d3b1-afa4dad8e83d"
      },
      "source": [
        "# Your answer here\n",
        "class Student():\n",
        "  def __init__(self, id, firstName, lastName, grade, credit, major):\n",
        "    self.id = id\n",
        "    self.firstName = firstName\n",
        "    self.lastName = lastName\n",
        "    self.grade = grade\n",
        "    self.credit = credit\n",
        "    self.major = major\n",
        "\n",
        "  \n",
        "std1 = Student(12345, 'Mig', 'Umberto', [99,96,89,97], [1,2,3,4], 'QSS')\n"
      ],
      "execution_count": 7,
      "outputs": [
        {
          "output_type": "stream",
          "text": [
            "\n",
            "      ID: 12345\n",
            "      First Name: Mig\n",
            "      Last Name: Umberto\n",
            "      Grade: [1, 2, 3]\n",
            "      Credit: [1, 2, 3, 44]\n",
            "      Major: QSS\n",
            "    \n"
          ],
          "name": "stdout"
        }
      ]
    },
    {
      "cell_type": "markdown",
      "metadata": {
        "id": "78zTHMM1szB2"
      },
      "source": [
        "\n",
        "***\n",
        "\n",
        "### Question 2\n",
        "\n",
        "Create a method to nicely display the student when we type `print`. It should display, for example:\n",
        "\n",
        "```\n",
        "Student:\n",
        "    Id: 12345\n",
        "    Name: Mig, Umberto\n",
        "    Major: QSS\n",
        "```\n",
        "\n",
        "Create a method that, when a variable storing a student is typed in the console, displays:\n",
        "\n",
        "```\n",
        "Student(Mig, Umberto; 12345)\n",
        "```\n",
        "\n",
        "Provide some testing with a fictitious result of your choice."
      ]
    },
    {
      "cell_type": "code",
      "metadata": {
        "colab": {
          "base_uri": "https://localhost:8080/"
        },
        "id": "3Maj0t5zszB2",
        "outputId": "2e40f419-a4d8-409c-c5e9-2e12adabd160"
      },
      "source": [
        "# Your answer here\n",
        "class Student():\n",
        "  def __init__(self, id, firstName, lastName, grade, credit, major):\n",
        "    self.id = id\n",
        "    self.firstName = firstName\n",
        "    self.lastName = lastName\n",
        "    self.grade = grade\n",
        "    self.credit = credit\n",
        "    self.major = major\n",
        "\n",
        "  def __str__(self):\n",
        "    return '''\n",
        "      ID: {}\n",
        "      Name: {}, {}\n",
        "      Major: {}\n",
        "    '''.format(self.id, self.lastName, self.firstName, self.major)\n",
        "\n",
        "  def __repr__(self):\n",
        "    return 'Student({}, {}; {})'.format(self.lastName, self.firstName, self.id)\n",
        "  \n",
        "student1 = Student(12345, 'Mig', 'Umberto', [99,96,89,97], [1,2,3,4], 'QSS')\n",
        "print(student1)"
      ],
      "execution_count": 14,
      "outputs": [
        {
          "output_type": "stream",
          "text": [
            "\n",
            "      ID: 12345\n",
            "      Name: Umberto, Mig\n",
            "      Major: QSS\n",
            "    \n"
          ],
          "name": "stdout"
        }
      ]
    },
    {
      "cell_type": "code",
      "metadata": {
        "colab": {
          "base_uri": "https://localhost:8080/"
        },
        "id": "AFqCwHS503oG",
        "outputId": "899d460a-6311-4608-d7c4-1dc429cda6d1"
      },
      "source": [
        "student1"
      ],
      "execution_count": 15,
      "outputs": [
        {
          "output_type": "execute_result",
          "data": {
            "text/plain": [
              "Student(Umberto, Mig; 12345)"
            ]
          },
          "metadata": {
            "tags": []
          },
          "execution_count": 15
        }
      ]
    },
    {
      "cell_type": "markdown",
      "metadata": {
        "id": "SIizsAFUszB2"
      },
      "source": [
        "\n",
        "***\n",
        "\n",
        "### Question 3\n",
        "\n",
        "Implement class methods for:\n",
        "\n",
        "1. Check if the id number is valid (remember: 5 digits, starting with number one)\n",
        "2. Check if the grades list has the same length as the credits list. The idea is that every grade corresponds to a course that gave the student a certain amount of credits.\n",
        "3. Append grade and credit: given a grade, and credits attached to the grade, append both to each respective place.\n",
        "\n",
        "Test your function with a toy student of your choice."
      ]
    },
    {
      "cell_type": "code",
      "metadata": {
        "colab": {
          "base_uri": "https://localhost:8080/"
        },
        "id": "FE9EMl62szB3",
        "outputId": "2bee380a-c118-40c6-e1f4-91266cabfdc8"
      },
      "source": [
        "# Your answer here\n",
        "class Student():\n",
        "  def __init__(self, id, firstName, lastName, grade, credit, major):\n",
        "    self.id = id\n",
        "    self.firstName = firstName\n",
        "    self.lastName = lastName\n",
        "    self.grade = grade\n",
        "    self.credit = credit\n",
        "    self.major = major\n",
        "    ####\n",
        "    self.courseGrade = []\n",
        "    self.checkVal()\n",
        "    ####\n",
        "  def __str__(self):\n",
        "    return '''\n",
        "      ID: {}\n",
        "      Name: {}, {}\n",
        "      Major: {}\n",
        "    '''.format(self.id, self.lastName, self.firstName, self.major)\n",
        "\n",
        "  def __repr__(self):\n",
        "    return 'Student({}, {}; {})'.format(self.lastName, self.firstName, self.id)\n",
        "  ##############\n",
        "  ### ANSWER ###\n",
        "  ##############\n",
        "  def checkVal(self):\n",
        "    if len(str(self.id)) != 5 or self.id >= 20000:\n",
        "      raise Exception(\"Student ID Format Error.\")\n",
        "    \n",
        "    if len(self.grade) == len(self.credit):\n",
        "      for i in range(0,len(self.grade)):\n",
        "        self.courseGrade.append([self.grade[i], self.credit[i]])\n",
        "    else:\n",
        "      raise Exception(\"Grade and Credits Don't Match.\")\n",
        "\n",
        "student2 = Student(12345, 'Mig', 'Umberto', [99,96,89,97], [1,2,3,4], 'QSS')\n",
        "print(student2.courseGrade)"
      ],
      "execution_count": 24,
      "outputs": [
        {
          "output_type": "stream",
          "text": [
            "[[99, 1], [96, 2], [89, 3], [97, 4]]\n"
          ],
          "name": "stdout"
        }
      ]
    },
    {
      "cell_type": "code",
      "metadata": {
        "colab": {
          "base_uri": "https://localhost:8080/",
          "height": 324
        },
        "id": "N4_U376O_ZZE",
        "outputId": "bc66f56c-fbc7-4a80-f382-f95e26190c0c"
      },
      "source": [
        "# ID Exception (not start with 1)\n",
        "student3 = Student(22334, 'Dylan', 'Z', [1,2,3,4], [3,4,5,6], 'AMS')"
      ],
      "execution_count": 26,
      "outputs": [
        {
          "output_type": "error",
          "ename": "Exception",
          "evalue": "ignored",
          "traceback": [
            "\u001b[0;31m---------------------------------------------------------------------------\u001b[0m",
            "\u001b[0;31mException\u001b[0m                                 Traceback (most recent call last)",
            "\u001b[0;32m<ipython-input-26-8b304cdda5a8>\u001b[0m in \u001b[0;36m<module>\u001b[0;34m()\u001b[0m\n\u001b[1;32m      1\u001b[0m \u001b[0;31m# ID Exception (not start with 1)\u001b[0m\u001b[0;34m\u001b[0m\u001b[0;34m\u001b[0m\u001b[0;34m\u001b[0m\u001b[0m\n\u001b[0;32m----> 2\u001b[0;31m \u001b[0mstudent3\u001b[0m \u001b[0;34m=\u001b[0m \u001b[0mStudent\u001b[0m\u001b[0;34m(\u001b[0m\u001b[0;36m22334\u001b[0m\u001b[0;34m,\u001b[0m \u001b[0;34m'Dylan'\u001b[0m\u001b[0;34m,\u001b[0m \u001b[0;34m'Z'\u001b[0m\u001b[0;34m,\u001b[0m \u001b[0;34m[\u001b[0m\u001b[0;36m1\u001b[0m\u001b[0;34m,\u001b[0m\u001b[0;36m2\u001b[0m\u001b[0;34m,\u001b[0m\u001b[0;36m3\u001b[0m\u001b[0;34m,\u001b[0m\u001b[0;36m4\u001b[0m\u001b[0;34m]\u001b[0m\u001b[0;34m,\u001b[0m \u001b[0;34m[\u001b[0m\u001b[0;36m3\u001b[0m\u001b[0;34m,\u001b[0m\u001b[0;36m4\u001b[0m\u001b[0;34m,\u001b[0m\u001b[0;36m5\u001b[0m\u001b[0;34m,\u001b[0m\u001b[0;36m6\u001b[0m\u001b[0;34m]\u001b[0m\u001b[0;34m,\u001b[0m \u001b[0;34m'AMS'\u001b[0m\u001b[0;34m)\u001b[0m\u001b[0;34m\u001b[0m\u001b[0;34m\u001b[0m\u001b[0m\n\u001b[0m",
            "\u001b[0;32m<ipython-input-24-5e66e351aa30>\u001b[0m in \u001b[0;36m__init__\u001b[0;34m(self, id, firstName, lastName, grade, credit, major)\u001b[0m\n\u001b[1;32m     10\u001b[0m     \u001b[0;31m####\u001b[0m\u001b[0;34m\u001b[0m\u001b[0;34m\u001b[0m\u001b[0;34m\u001b[0m\u001b[0m\n\u001b[1;32m     11\u001b[0m     \u001b[0mself\u001b[0m\u001b[0;34m.\u001b[0m\u001b[0mcourseGrade\u001b[0m \u001b[0;34m=\u001b[0m \u001b[0;34m[\u001b[0m\u001b[0;34m]\u001b[0m\u001b[0;34m\u001b[0m\u001b[0;34m\u001b[0m\u001b[0m\n\u001b[0;32m---> 12\u001b[0;31m     \u001b[0mself\u001b[0m\u001b[0;34m.\u001b[0m\u001b[0mcheckVal\u001b[0m\u001b[0;34m(\u001b[0m\u001b[0;34m)\u001b[0m\u001b[0;34m\u001b[0m\u001b[0;34m\u001b[0m\u001b[0m\n\u001b[0m\u001b[1;32m     13\u001b[0m     \u001b[0;31m####\u001b[0m\u001b[0;34m\u001b[0m\u001b[0;34m\u001b[0m\u001b[0;34m\u001b[0m\u001b[0m\n\u001b[1;32m     14\u001b[0m   \u001b[0;32mdef\u001b[0m \u001b[0m__str__\u001b[0m\u001b[0;34m(\u001b[0m\u001b[0mself\u001b[0m\u001b[0;34m)\u001b[0m\u001b[0;34m:\u001b[0m\u001b[0;34m\u001b[0m\u001b[0;34m\u001b[0m\u001b[0m\n",
            "\u001b[0;32m<ipython-input-24-5e66e351aa30>\u001b[0m in \u001b[0;36mcheckVal\u001b[0;34m(self)\u001b[0m\n\u001b[1;32m     26\u001b[0m   \u001b[0;32mdef\u001b[0m \u001b[0mcheckVal\u001b[0m\u001b[0;34m(\u001b[0m\u001b[0mself\u001b[0m\u001b[0;34m)\u001b[0m\u001b[0;34m:\u001b[0m\u001b[0;34m\u001b[0m\u001b[0;34m\u001b[0m\u001b[0m\n\u001b[1;32m     27\u001b[0m     \u001b[0;32mif\u001b[0m \u001b[0mlen\u001b[0m\u001b[0;34m(\u001b[0m\u001b[0mstr\u001b[0m\u001b[0;34m(\u001b[0m\u001b[0mself\u001b[0m\u001b[0;34m.\u001b[0m\u001b[0mid\u001b[0m\u001b[0;34m)\u001b[0m\u001b[0;34m)\u001b[0m \u001b[0;34m!=\u001b[0m \u001b[0;36m5\u001b[0m \u001b[0;32mor\u001b[0m \u001b[0mself\u001b[0m\u001b[0;34m.\u001b[0m\u001b[0mid\u001b[0m \u001b[0;34m>=\u001b[0m \u001b[0;36m20000\u001b[0m\u001b[0;34m:\u001b[0m\u001b[0;34m\u001b[0m\u001b[0;34m\u001b[0m\u001b[0m\n\u001b[0;32m---> 28\u001b[0;31m       \u001b[0;32mraise\u001b[0m \u001b[0mException\u001b[0m\u001b[0;34m(\u001b[0m\u001b[0;34m\"Student ID Format Error.\"\u001b[0m\u001b[0;34m)\u001b[0m\u001b[0;34m\u001b[0m\u001b[0;34m\u001b[0m\u001b[0m\n\u001b[0m\u001b[1;32m     29\u001b[0m \u001b[0;34m\u001b[0m\u001b[0m\n\u001b[1;32m     30\u001b[0m     \u001b[0;32mif\u001b[0m \u001b[0mlen\u001b[0m\u001b[0;34m(\u001b[0m\u001b[0mself\u001b[0m\u001b[0;34m.\u001b[0m\u001b[0mgrade\u001b[0m\u001b[0;34m)\u001b[0m \u001b[0;34m==\u001b[0m \u001b[0mlen\u001b[0m\u001b[0;34m(\u001b[0m\u001b[0mself\u001b[0m\u001b[0;34m.\u001b[0m\u001b[0mcredit\u001b[0m\u001b[0;34m)\u001b[0m\u001b[0;34m:\u001b[0m\u001b[0;34m\u001b[0m\u001b[0;34m\u001b[0m\u001b[0m\n",
            "\u001b[0;31mException\u001b[0m: Student ID Format Error."
          ]
        }
      ]
    },
    {
      "cell_type": "code",
      "metadata": {
        "colab": {
          "base_uri": "https://localhost:8080/",
          "height": 324
        },
        "id": "2zAouWz-_dRl",
        "outputId": "f07244fd-8843-40f1-a73b-c12e2ef3e938"
      },
      "source": [
        "# ID Exception (not 5 digit ID)\n",
        "student4 = Student(1222, 'Dylan', 'Z', [1,2], [1,2], 'PHYS')"
      ],
      "execution_count": 25,
      "outputs": [
        {
          "output_type": "error",
          "ename": "Exception",
          "evalue": "ignored",
          "traceback": [
            "\u001b[0;31m---------------------------------------------------------------------------\u001b[0m",
            "\u001b[0;31mException\u001b[0m                                 Traceback (most recent call last)",
            "\u001b[0;32m<ipython-input-25-2d9710911d9a>\u001b[0m in \u001b[0;36m<module>\u001b[0;34m()\u001b[0m\n\u001b[1;32m      1\u001b[0m \u001b[0;31m# ID Exception (not 5 digit ID)\u001b[0m\u001b[0;34m\u001b[0m\u001b[0;34m\u001b[0m\u001b[0;34m\u001b[0m\u001b[0m\n\u001b[0;32m----> 2\u001b[0;31m \u001b[0mstudent4\u001b[0m \u001b[0;34m=\u001b[0m \u001b[0mStudent\u001b[0m\u001b[0;34m(\u001b[0m\u001b[0;36m1222\u001b[0m\u001b[0;34m,\u001b[0m \u001b[0;34m'Dylan'\u001b[0m\u001b[0;34m,\u001b[0m \u001b[0;34m'Z'\u001b[0m\u001b[0;34m,\u001b[0m \u001b[0;34m[\u001b[0m\u001b[0;36m1\u001b[0m\u001b[0;34m,\u001b[0m\u001b[0;36m2\u001b[0m\u001b[0;34m]\u001b[0m\u001b[0;34m,\u001b[0m \u001b[0;34m[\u001b[0m\u001b[0;36m1\u001b[0m\u001b[0;34m,\u001b[0m\u001b[0;36m2\u001b[0m\u001b[0;34m]\u001b[0m\u001b[0;34m,\u001b[0m \u001b[0;34m'PHYS'\u001b[0m\u001b[0;34m)\u001b[0m\u001b[0;34m\u001b[0m\u001b[0;34m\u001b[0m\u001b[0m\n\u001b[0m",
            "\u001b[0;32m<ipython-input-24-5e66e351aa30>\u001b[0m in \u001b[0;36m__init__\u001b[0;34m(self, id, firstName, lastName, grade, credit, major)\u001b[0m\n\u001b[1;32m     10\u001b[0m     \u001b[0;31m####\u001b[0m\u001b[0;34m\u001b[0m\u001b[0;34m\u001b[0m\u001b[0;34m\u001b[0m\u001b[0m\n\u001b[1;32m     11\u001b[0m     \u001b[0mself\u001b[0m\u001b[0;34m.\u001b[0m\u001b[0mcourseGrade\u001b[0m \u001b[0;34m=\u001b[0m \u001b[0;34m[\u001b[0m\u001b[0;34m]\u001b[0m\u001b[0;34m\u001b[0m\u001b[0;34m\u001b[0m\u001b[0m\n\u001b[0;32m---> 12\u001b[0;31m     \u001b[0mself\u001b[0m\u001b[0;34m.\u001b[0m\u001b[0mcheckVal\u001b[0m\u001b[0;34m(\u001b[0m\u001b[0;34m)\u001b[0m\u001b[0;34m\u001b[0m\u001b[0;34m\u001b[0m\u001b[0m\n\u001b[0m\u001b[1;32m     13\u001b[0m     \u001b[0;31m####\u001b[0m\u001b[0;34m\u001b[0m\u001b[0;34m\u001b[0m\u001b[0;34m\u001b[0m\u001b[0m\n\u001b[1;32m     14\u001b[0m   \u001b[0;32mdef\u001b[0m \u001b[0m__str__\u001b[0m\u001b[0;34m(\u001b[0m\u001b[0mself\u001b[0m\u001b[0;34m)\u001b[0m\u001b[0;34m:\u001b[0m\u001b[0;34m\u001b[0m\u001b[0;34m\u001b[0m\u001b[0m\n",
            "\u001b[0;32m<ipython-input-24-5e66e351aa30>\u001b[0m in \u001b[0;36mcheckVal\u001b[0;34m(self)\u001b[0m\n\u001b[1;32m     26\u001b[0m   \u001b[0;32mdef\u001b[0m \u001b[0mcheckVal\u001b[0m\u001b[0;34m(\u001b[0m\u001b[0mself\u001b[0m\u001b[0;34m)\u001b[0m\u001b[0;34m:\u001b[0m\u001b[0;34m\u001b[0m\u001b[0;34m\u001b[0m\u001b[0m\n\u001b[1;32m     27\u001b[0m     \u001b[0;32mif\u001b[0m \u001b[0mlen\u001b[0m\u001b[0;34m(\u001b[0m\u001b[0mstr\u001b[0m\u001b[0;34m(\u001b[0m\u001b[0mself\u001b[0m\u001b[0;34m.\u001b[0m\u001b[0mid\u001b[0m\u001b[0;34m)\u001b[0m\u001b[0;34m)\u001b[0m \u001b[0;34m!=\u001b[0m \u001b[0;36m5\u001b[0m \u001b[0;32mor\u001b[0m \u001b[0mself\u001b[0m\u001b[0;34m.\u001b[0m\u001b[0mid\u001b[0m \u001b[0;34m>=\u001b[0m \u001b[0;36m20000\u001b[0m\u001b[0;34m:\u001b[0m\u001b[0;34m\u001b[0m\u001b[0;34m\u001b[0m\u001b[0m\n\u001b[0;32m---> 28\u001b[0;31m       \u001b[0;32mraise\u001b[0m \u001b[0mException\u001b[0m\u001b[0;34m(\u001b[0m\u001b[0;34m\"Student ID Format Error.\"\u001b[0m\u001b[0;34m)\u001b[0m\u001b[0;34m\u001b[0m\u001b[0;34m\u001b[0m\u001b[0m\n\u001b[0m\u001b[1;32m     29\u001b[0m \u001b[0;34m\u001b[0m\u001b[0m\n\u001b[1;32m     30\u001b[0m     \u001b[0;32mif\u001b[0m \u001b[0mlen\u001b[0m\u001b[0;34m(\u001b[0m\u001b[0mself\u001b[0m\u001b[0;34m.\u001b[0m\u001b[0mgrade\u001b[0m\u001b[0;34m)\u001b[0m \u001b[0;34m==\u001b[0m \u001b[0mlen\u001b[0m\u001b[0;34m(\u001b[0m\u001b[0mself\u001b[0m\u001b[0;34m.\u001b[0m\u001b[0mcredit\u001b[0m\u001b[0;34m)\u001b[0m\u001b[0;34m:\u001b[0m\u001b[0;34m\u001b[0m\u001b[0;34m\u001b[0m\u001b[0m\n",
            "\u001b[0;31mException\u001b[0m: Student ID Format Error."
          ]
        }
      ]
    },
    {
      "cell_type": "code",
      "metadata": {
        "colab": {
          "base_uri": "https://localhost:8080/",
          "height": 324
        },
        "id": "2t1BOuCr_wH2",
        "outputId": "a435d5ba-344f-4873-ca21-62e766eccb37"
      },
      "source": [
        "# Grade, Credit Length Exception\n",
        "student = Student(11221, 'H', 'Hunnum', [2,3,4], [1], 'THEA')"
      ],
      "execution_count": 27,
      "outputs": [
        {
          "output_type": "error",
          "ename": "Exception",
          "evalue": "ignored",
          "traceback": [
            "\u001b[0;31m---------------------------------------------------------------------------\u001b[0m",
            "\u001b[0;31mException\u001b[0m                                 Traceback (most recent call last)",
            "\u001b[0;32m<ipython-input-27-8bf62e150ed4>\u001b[0m in \u001b[0;36m<module>\u001b[0;34m()\u001b[0m\n\u001b[1;32m      1\u001b[0m \u001b[0;31m# Grade, Credit Length Exception\u001b[0m\u001b[0;34m\u001b[0m\u001b[0;34m\u001b[0m\u001b[0;34m\u001b[0m\u001b[0m\n\u001b[0;32m----> 2\u001b[0;31m \u001b[0mstudent\u001b[0m \u001b[0;34m=\u001b[0m \u001b[0mStudent\u001b[0m\u001b[0;34m(\u001b[0m\u001b[0;36m11221\u001b[0m\u001b[0;34m,\u001b[0m \u001b[0;34m'H'\u001b[0m\u001b[0;34m,\u001b[0m \u001b[0;34m'Hunnum'\u001b[0m\u001b[0;34m,\u001b[0m \u001b[0;34m[\u001b[0m\u001b[0;36m2\u001b[0m\u001b[0;34m,\u001b[0m\u001b[0;36m3\u001b[0m\u001b[0;34m,\u001b[0m\u001b[0;36m4\u001b[0m\u001b[0;34m]\u001b[0m\u001b[0;34m,\u001b[0m \u001b[0;34m[\u001b[0m\u001b[0;36m1\u001b[0m\u001b[0;34m]\u001b[0m\u001b[0;34m,\u001b[0m \u001b[0;34m'THEA'\u001b[0m\u001b[0;34m)\u001b[0m\u001b[0;34m\u001b[0m\u001b[0;34m\u001b[0m\u001b[0m\n\u001b[0m",
            "\u001b[0;32m<ipython-input-24-5e66e351aa30>\u001b[0m in \u001b[0;36m__init__\u001b[0;34m(self, id, firstName, lastName, grade, credit, major)\u001b[0m\n\u001b[1;32m     10\u001b[0m     \u001b[0;31m####\u001b[0m\u001b[0;34m\u001b[0m\u001b[0;34m\u001b[0m\u001b[0;34m\u001b[0m\u001b[0m\n\u001b[1;32m     11\u001b[0m     \u001b[0mself\u001b[0m\u001b[0;34m.\u001b[0m\u001b[0mcourseGrade\u001b[0m \u001b[0;34m=\u001b[0m \u001b[0;34m[\u001b[0m\u001b[0;34m]\u001b[0m\u001b[0;34m\u001b[0m\u001b[0;34m\u001b[0m\u001b[0m\n\u001b[0;32m---> 12\u001b[0;31m     \u001b[0mself\u001b[0m\u001b[0;34m.\u001b[0m\u001b[0mcheckVal\u001b[0m\u001b[0;34m(\u001b[0m\u001b[0;34m)\u001b[0m\u001b[0;34m\u001b[0m\u001b[0;34m\u001b[0m\u001b[0m\n\u001b[0m\u001b[1;32m     13\u001b[0m     \u001b[0;31m####\u001b[0m\u001b[0;34m\u001b[0m\u001b[0;34m\u001b[0m\u001b[0;34m\u001b[0m\u001b[0m\n\u001b[1;32m     14\u001b[0m   \u001b[0;32mdef\u001b[0m \u001b[0m__str__\u001b[0m\u001b[0;34m(\u001b[0m\u001b[0mself\u001b[0m\u001b[0;34m)\u001b[0m\u001b[0;34m:\u001b[0m\u001b[0;34m\u001b[0m\u001b[0;34m\u001b[0m\u001b[0m\n",
            "\u001b[0;32m<ipython-input-24-5e66e351aa30>\u001b[0m in \u001b[0;36mcheckVal\u001b[0;34m(self)\u001b[0m\n\u001b[1;32m     32\u001b[0m         \u001b[0mself\u001b[0m\u001b[0;34m.\u001b[0m\u001b[0mcourseGrade\u001b[0m\u001b[0;34m.\u001b[0m\u001b[0mappend\u001b[0m\u001b[0;34m(\u001b[0m\u001b[0;34m[\u001b[0m\u001b[0mself\u001b[0m\u001b[0;34m.\u001b[0m\u001b[0mgrade\u001b[0m\u001b[0;34m[\u001b[0m\u001b[0mi\u001b[0m\u001b[0;34m]\u001b[0m\u001b[0;34m,\u001b[0m \u001b[0mself\u001b[0m\u001b[0;34m.\u001b[0m\u001b[0mcredit\u001b[0m\u001b[0;34m[\u001b[0m\u001b[0mi\u001b[0m\u001b[0;34m]\u001b[0m\u001b[0;34m]\u001b[0m\u001b[0;34m)\u001b[0m\u001b[0;34m\u001b[0m\u001b[0;34m\u001b[0m\u001b[0m\n\u001b[1;32m     33\u001b[0m     \u001b[0;32melse\u001b[0m\u001b[0;34m:\u001b[0m\u001b[0;34m\u001b[0m\u001b[0;34m\u001b[0m\u001b[0m\n\u001b[0;32m---> 34\u001b[0;31m       \u001b[0;32mraise\u001b[0m \u001b[0mException\u001b[0m\u001b[0;34m(\u001b[0m\u001b[0;34m\"Grade and Credits Don't Match.\"\u001b[0m\u001b[0;34m)\u001b[0m\u001b[0;34m\u001b[0m\u001b[0;34m\u001b[0m\u001b[0m\n\u001b[0m\u001b[1;32m     35\u001b[0m \u001b[0;34m\u001b[0m\u001b[0m\n\u001b[1;32m     36\u001b[0m \u001b[0mstudent2\u001b[0m \u001b[0;34m=\u001b[0m \u001b[0mStudent\u001b[0m\u001b[0;34m(\u001b[0m\u001b[0;36m12345\u001b[0m\u001b[0;34m,\u001b[0m \u001b[0;34m'Mig'\u001b[0m\u001b[0;34m,\u001b[0m \u001b[0;34m'Umberto'\u001b[0m\u001b[0;34m,\u001b[0m \u001b[0;34m[\u001b[0m\u001b[0;36m99\u001b[0m\u001b[0;34m,\u001b[0m\u001b[0;36m96\u001b[0m\u001b[0;34m,\u001b[0m\u001b[0;36m89\u001b[0m\u001b[0;34m,\u001b[0m\u001b[0;36m97\u001b[0m\u001b[0;34m]\u001b[0m\u001b[0;34m,\u001b[0m \u001b[0;34m[\u001b[0m\u001b[0;36m1\u001b[0m\u001b[0;34m,\u001b[0m\u001b[0;36m2\u001b[0m\u001b[0;34m,\u001b[0m\u001b[0;36m3\u001b[0m\u001b[0;34m,\u001b[0m\u001b[0;36m4\u001b[0m\u001b[0;34m]\u001b[0m\u001b[0;34m,\u001b[0m \u001b[0;34m'QSS'\u001b[0m\u001b[0;34m)\u001b[0m\u001b[0;34m\u001b[0m\u001b[0;34m\u001b[0m\u001b[0m\n",
            "\u001b[0;31mException\u001b[0m: Grade and Credits Don't Match."
          ]
        }
      ]
    },
    {
      "cell_type": "markdown",
      "metadata": {
        "id": "xG5fIrjaszB3"
      },
      "source": [
        "\n",
        "***\n",
        "\n",
        "### Question 4\n",
        "\n",
        "Create a module in the class Student that computes the unweighted average of the student's grades."
      ]
    },
    {
      "cell_type": "code",
      "metadata": {
        "colab": {
          "base_uri": "https://localhost:8080/"
        },
        "id": "KcrzEiloszB4",
        "outputId": "557afb46-77c3-422d-bbed-7095a76a18b2"
      },
      "source": [
        "# Your answer here\n",
        "class Student():\n",
        "  def __init__(self, id, firstName, lastName, grade, credit, major):\n",
        "    self.id = id\n",
        "    self.firstName = firstName\n",
        "    self.lastName = lastName\n",
        "    self.grade = grade\n",
        "    self.credit = credit\n",
        "    self.major = major\n",
        "    self.courseGrade = []\n",
        "    self.checkVal()\n",
        "\n",
        "  def __str__(self):\n",
        "    return '''\n",
        "      ID: {}\n",
        "      Name: {}, {}\n",
        "      Major: {}\n",
        "    '''.format(self.id, self.lastName, self.firstName, self.major)\n",
        "\n",
        "  def __repr__(self):\n",
        "    return 'Student({}, {}; {})'.format(self.lastName, self.firstName, self.id)\n",
        "\n",
        "  def checkVal(self):\n",
        "    if len(str(self.id)) != 5 or self.id >= 20000:\n",
        "      raise Exception(\"Student ID Format Error.\")\n",
        "    \n",
        "    if len(self.grade) == len(self.credit):\n",
        "      for i in range(0,len(self.grade)):\n",
        "        self.courseGrade.append([self.grade[i], self.credit[i]])\n",
        "    else:\n",
        "      raise Exception(\"Grade and Credits Don't Match.\")\n",
        "#############\n",
        "  def avgGradeUnweighted(self):\n",
        "    avg = 0\n",
        "    for grade in self.courseGrade:\n",
        "      avg += grade[0]\n",
        "    return avg/len(self.grade)\n",
        "\n",
        "studentNew = Student(12345, 'Dylan', 'Z', [90, 91, 89, 98], [3, 3, 4, 3], 'AMS')\n",
        "studentNew.avgGradeUnweighted()"
      ],
      "execution_count": 32,
      "outputs": [
        {
          "output_type": "execute_result",
          "data": {
            "text/plain": [
              "92.0"
            ]
          },
          "metadata": {
            "tags": []
          },
          "execution_count": 32
        }
      ]
    },
    {
      "cell_type": "markdown",
      "metadata": {
        "id": "tWa6eTcVszB4"
      },
      "source": [
        "\n",
        "***\n",
        "\n",
        "### Question 5\n",
        "\n",
        "Create a module in the class Student that computes the weighted average of the student's grades, weighted by the credits."
      ]
    },
    {
      "cell_type": "code",
      "metadata": {
        "colab": {
          "base_uri": "https://localhost:8080/"
        },
        "id": "yJ06pLeOszB4",
        "outputId": "eb9bcd1b-5f04-404f-fe7a-e2007aa4bcc2"
      },
      "source": [
        "# Your answer here\n",
        "class Student():\n",
        "  def __init__(self, id, firstName, lastName, grade, credit, major):\n",
        "    self.id = id\n",
        "    self.firstName = firstName\n",
        "    self.lastName = lastName\n",
        "    self.grade = grade\n",
        "    self.credit = credit\n",
        "    self.major = major\n",
        "    self.courseGrade = []\n",
        "    self.checkVal()\n",
        "\n",
        "  def __str__(self):\n",
        "    return '''\n",
        "      ID: {}\n",
        "      Name: {}, {}\n",
        "      Major: {}\n",
        "    '''.format(self.id, self.lastName, self.firstName, self.major)\n",
        "\n",
        "  def __repr__(self):\n",
        "    return 'Student({}, {}; {})'.format(self.lastName, self.firstName, self.id)\n",
        "\n",
        "  def checkVal(self):\n",
        "    if len(str(self.id)) != 5 or self.id >= 20000:\n",
        "      raise Exception(\"Student ID Format Error.\")\n",
        "    \n",
        "    if len(self.grade) == len(self.credit):\n",
        "      for i in range(0,len(self.grade)):\n",
        "        self.courseGrade.append([self.grade[i], self.credit[i]])\n",
        "    else:\n",
        "      raise Exception(\"Grade and Credits Don't Match.\")\n",
        "\n",
        "  def avgGradeUnweighted(self):\n",
        "    avg = 0\n",
        "    for grade in self.courseGrade:\n",
        "      avg += grade[0]\n",
        "    return avg/len(self.grade)\n",
        "####################\n",
        "  def avgGradeWeighted(self):\n",
        "    totalAvg = 0\n",
        "    weight = 0\n",
        "    for grade in self.courseGrade:\n",
        "      totalAvg += grade[0] * grade[1]\n",
        "      weight += grade[1]\n",
        "    return totalAvg/weight\n",
        "\n",
        "studentNew = Student(12345, 'Dylan', 'Z', [90, 91, 89, 98], [3, 3, 4, 3], 'AMS')\n",
        "studentNew.avgGradeWeighted()"
      ],
      "execution_count": 33,
      "outputs": [
        {
          "output_type": "execute_result",
          "data": {
            "text/plain": [
              "91.76923076923077"
            ]
          },
          "metadata": {
            "tags": []
          },
          "execution_count": 33
        }
      ]
    },
    {
      "cell_type": "markdown",
      "metadata": {
        "id": "NbPKQOnPszB4"
      },
      "source": [
        "**That's all, folks!**"
      ]
    }
  ]
}
{
  "nbformat": 4,
  "nbformat_minor": 0,
  "metadata": {
    "kernelspec": {
      "display_name": "Python 3",
      "language": "python",
      "name": "python3"
    },
    "language_info": {
      "codemirror_mode": {
        "name": "ipython",
        "version": 3
      },
      "file_extension": ".py",
      "mimetype": "text/x-python",
      "name": "python",
      "nbconvert_exporter": "python",
      "pygments_lexer": "ipython3",
      "version": "3.8.5"
    },
    "colab": {
      "name": "Homework3QTM385.ipynb",
      "provenance": [],
      "include_colab_link": true
    }
  },
  "cells": [
    {
      "cell_type": "markdown",
      "metadata": {
        "id": "view-in-github",
        "colab_type": "text"
      },
      "source": [
        "<a href=\"https://colab.research.google.com/github/Fjx-dylanZ/qtm385/blob/main/Homework3QTM385_fjx_dylan_zhang.ipynb\" target=\"_parent\"><img src=\"https://colab.research.google.com/assets/colab-badge.svg\" alt=\"Open In Colab\"/></a>"
      ]
    },
    {
      "cell_type": "markdown",
      "metadata": {
        "id": "W8UmS9nqREJx"
      },
      "source": [
        "# QTM 385\n",
        "\n",
        "***\n",
        "\n",
        "## Homework 3\n",
        "\n",
        "Student: Fanjiaxuan Zhang"
      ]
    },
    {
      "cell_type": "markdown",
      "metadata": {
        "id": "pwd-QxKaREJ2"
      },
      "source": [
        "In this homework, we will do some very elementary text analysis. The idea is to:\n",
        "\n",
        "1. Open a Gutenberg Project Book\n",
        "2. Count how many lines the Book has.\n",
        "3. Count how many words the Book has.\n",
        "\n",
        "The [Project Gutenberg](https://www.gutenberg.org) stores thousands of texts that are free for access, download, and read in your own device. In this homework, we will read the book \"Pride and Prejudice,\" by Jane Austen. In case you want to know more about the book, here is a [Wikipedia entry](https://en.wikipedia.org/wiki/Pride_and_Prejudice) describing it."
      ]
    },
    {
      "cell_type": "markdown",
      "metadata": {
        "id": "2VRznMedREJ3"
      },
      "source": [
        "\n",
        "***\n",
        "\n",
        "### Question 1\n",
        "\n",
        "We start by opening the book. The `txt` version of the book is in the following link: https://www.gutenberg.org/files/1342/1342-0.txt\n",
        "\n",
        "To read the text from this URL we will use the function `urlopen` in the module `urllib.request`. Read this [Stackoverflow entry](https://stackoverflow.com/questions/47842388/read-text-files-from-website-with-python), and adapt the code in the first answer to _open the book_, _display the first line_, and then _`break`_."
      ]
    },
    {
      "cell_type": "code",
      "metadata": {
        "colab": {
          "base_uri": "https://localhost:8080/"
        },
        "id": "xL_Ne6dJREJ3",
        "outputId": "3da75669-dd8b-4399-b161-6842513a2f3b"
      },
      "source": [
        "# Your answer here\n",
        "from urllib.request import urlopen\n",
        "data = urlopen(\"https://www.gutenberg.org/files/1342/1342-0.txt\")\n",
        "for line in data:\n",
        "  print(line)\n",
        "  break"
      ],
      "execution_count": 6,
      "outputs": [
        {
          "output_type": "stream",
          "text": [
            "b'\\xef\\xbb\\xbfThe Project Gutenberg eBook of Pride and Prejudice, by Jane Austen\\r\\n'\n"
          ],
          "name": "stdout"
        }
      ]
    },
    {
      "cell_type": "code",
      "metadata": {
        "id": "3f3p-o-t5Uug"
      },
      "source": [
        ""
      ],
      "execution_count": null,
      "outputs": []
    },
    {
      "cell_type": "markdown",
      "metadata": {
        "id": "H1VMezFIREJ3"
      },
      "source": [
        "\n",
        "***\n",
        "\n",
        "### Question 2\n",
        "\n",
        "Note that at the beginning and the end of the first line, we have some strange characters (e. g. `\\xef\\xbb\\xbf`). This happens because of the [character encoding](https://en.wikipedia.org/wiki/Character_encoding). To fix this, we need to use `decode('utf-8')`. For instance, check out the following code:"
      ]
    },
    {
      "cell_type": "code",
      "metadata": {
        "id": "qAXs_9wJREJ4",
        "outputId": "2d6a39ff-d4b5-4678-bcb1-ec997a181cb6"
      },
      "source": [
        "# Here is my first line\n",
        "my_line = b'\\xef\\xbb\\xbfThe Project Gutenberg eBook of Pride and Prejudice, by Jane Austen\\r\\n'\n",
        "\n",
        "# My line before decoding\n",
        "print(my_line, end = '\\n\\n')\n",
        "\n",
        "# My line after decoding\n",
        "print(my_line.decode('utf-8'))"
      ],
      "execution_count": null,
      "outputs": [
        {
          "output_type": "stream",
          "text": [
            "b'\\xef\\xbb\\xbfThe Project Gutenberg eBook of Pride and Prejudice, by Jane Austen\\r\\n'\n",
            "\n",
            "﻿The Project Gutenberg eBook of Pride and Prejudice, by Jane Austen\r\n",
            "\n"
          ],
          "name": "stdout"
        }
      ]
    },
    {
      "cell_type": "markdown",
      "metadata": {
        "id": "QZG74OlUREJ5"
      },
      "source": [
        "To fix this problem, we will create a list with all the lines in the book, decoded to use the UTF-8 encoding. Your job, step by step, is to:\n",
        "\n",
        "1. Reopen the book\n",
        "2. Create an empty list\n",
        "3. Use an for-loop to go over each line of the text\n",
        "4. Inside the for-loop, change the encoding of line, and store in the list (hint: you could use `append()` to do this)\n",
        "\n",
        "In the end, display the first line."
      ]
    },
    {
      "cell_type": "code",
      "metadata": {
        "id": "6pNrFhDKREJ5"
      },
      "source": [
        "# Your answer here\n",
        "data = urlopen(\"https://www.gutenberg.org/files/1342/1342-0.txt\")\n",
        "lines = []\n",
        "for line in data:\n",
        "  lines.append(line.decode('utf-8'))"
      ],
      "execution_count": 15,
      "outputs": []
    },
    {
      "cell_type": "markdown",
      "metadata": {
        "id": "5LL1tOrqREJ5"
      },
      "source": [
        "\n",
        "***\n",
        "\n",
        "### Question 3\n",
        "\n",
        "How many lines the book has?"
      ]
    },
    {
      "cell_type": "code",
      "metadata": {
        "colab": {
          "base_uri": "https://localhost:8080/"
        },
        "id": "k09N_oqxREJ6",
        "outputId": "e02cab68-7e63-4a6f-c235-06975b3b6e32"
      },
      "source": [
        "# Your answer here\n",
        "print('The book has {} lines.'.format(len(lines)))"
      ],
      "execution_count": 16,
      "outputs": [
        {
          "output_type": "stream",
          "text": [
            "The book has 14580 lines.\n"
          ],
          "name": "stdout"
        }
      ]
    },
    {
      "cell_type": "markdown",
      "metadata": {
        "id": "vXVW6ypWREJ6"
      },
      "source": [
        "\n",
        "***\n",
        "\n",
        "### Question 4\n",
        "\n",
        "Now, to count how many words there is in the book, we need a function that splits a text line into its words. For example, to split the first line:"
      ]
    },
    {
      "cell_type": "code",
      "metadata": {
        "id": "oLxAb_lNREJ6",
        "outputId": "8075006b-038b-4650-e025-c15cd1a72929"
      },
      "source": [
        "# New decoded line:\n",
        "my_first_line = \"This is my first line\"\n",
        "\n",
        "# My splitted line\n",
        "print(my_first_line.split())"
      ],
      "execution_count": null,
      "outputs": [
        {
          "output_type": "stream",
          "text": [
            "['This', 'is', 'my', 'first', 'line']\n"
          ],
          "name": "stdout"
        }
      ]
    },
    {
      "cell_type": "markdown",
      "metadata": {
        "id": "nB_sEuAMREJ6"
      },
      "source": [
        "Split the 385th line of the text, and show how many words it has (hint: python starts counting at zero): "
      ]
    },
    {
      "cell_type": "code",
      "metadata": {
        "colab": {
          "base_uri": "https://localhost:8080/"
        },
        "id": "YaoKGlzuREJ6",
        "outputId": "dcb48a86-40a1-4be2-8442-91ba84b5e236"
      },
      "source": [
        "# Your answer here\n",
        "print(lines[384].split())\n",
        "print('The 385th line has {} words'.format(len(lines[384].split())))"
      ],
      "execution_count": 17,
      "outputs": [
        {
          "output_type": "stream",
          "text": [
            "['for', 'his', 'kindness;', 'or', 'me,', 'either,', 'for', 'that', 'matter.', 'At', 'our', 'time', 'of']\n",
            "The 385th line has 13 words\n"
          ],
          "name": "stdout"
        }
      ]
    },
    {
      "cell_type": "markdown",
      "metadata": {
        "id": "yUjC2VcCREJ7"
      },
      "source": [
        "\n",
        "***\n",
        "\n",
        "### Question 5\n",
        "\n",
        "Now, count how many words the book has."
      ]
    },
    {
      "cell_type": "code",
      "metadata": {
        "colab": {
          "base_uri": "https://localhost:8080/"
        },
        "id": "Vp_lMZCMREJ7",
        "outputId": "d5b85256-24be-4841-acc3-d052071321ab"
      },
      "source": [
        "# Your answer here\n",
        "word_count = 0\n",
        "for line in lines:\n",
        "  word_count += len(line.split())\n",
        "print('The book has {} words.'.format(word_count))"
      ],
      "execution_count": 14,
      "outputs": [
        {
          "output_type": "stream",
          "text": [
            "The book has 124743 words\n"
          ],
          "name": "stdout"
        }
      ]
    },
    {
      "cell_type": "markdown",
      "metadata": {
        "id": "tdyyp3jSREJ7"
      },
      "source": [
        "**That's all, folks!**"
      ]
    }
  ]
}